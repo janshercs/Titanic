{
 "cells": [
  {
   "cell_type": "markdown",
   "metadata": {},
   "source": [
    "## Import required modules"
   ]
  },
  {
   "cell_type": "code",
   "execution_count": 2,
   "metadata": {},
   "outputs": [],
   "source": [
    "%matplotlib inline\n",
    "\n",
    "import pandas as pd\n",
    "import numpy as np\n",
    "import matplotlib.pyplot as plt\n",
    "import seaborn as sns\n",
    "\n",
    "from sklearn.model_selection import train_test_split\n",
    "from sklearn.svm import SVC"
   ]
  },
  {
   "cell_type": "markdown",
   "metadata": {},
   "source": [
    "## Import data + checking missing values"
   ]
  },
  {
   "cell_type": "code",
   "execution_count": 3,
   "metadata": {},
   "outputs": [
    {
     "data": {
      "text/plain": [
       "Cabin          77.104377\n",
       "Age            19.865320\n",
       "Embarked        0.224467\n",
       "Fare            0.000000\n",
       "Ticket          0.000000\n",
       "Parch           0.000000\n",
       "SibSp           0.000000\n",
       "Sex             0.000000\n",
       "Name            0.000000\n",
       "Pclass          0.000000\n",
       "Survived        0.000000\n",
       "PassengerId     0.000000\n",
       "dtype: float64"
      ]
     },
     "execution_count": 3,
     "metadata": {},
     "output_type": "execute_result"
    }
   ],
   "source": [
    "df = pd.read_csv('train.csv')\n",
    "df_test = pd.read_csv('test.csv')\n",
    "missing = df.isnull().sum()/df.isnull().count()*100\n",
    "missing_data_columns = missing.index[missing!=0]\n",
    "missing.sort_values(ascending = False)"
   ]
  },
  {
   "cell_type": "markdown",
   "metadata": {},
   "source": [
    "## Explore & filling columns with missing data"
   ]
  },
  {
   "cell_type": "code",
   "execution_count": 4,
   "metadata": {},
   "outputs": [
    {
     "name": "stdout",
     "output_type": "stream",
     "text": [
      "    Age Cabin Embarked\n",
      "0  22.0   NaN        S\n",
      "1  38.0   C85        C\n",
      "2  26.0   NaN        S\n",
      "3  35.0  C123        S\n",
      "4  35.0   NaN        S\n"
     ]
    }
   ],
   "source": [
    "df_missing = df[missing_data_columns]\n",
    "print(df_missing.head())"
   ]
  },
  {
   "cell_type": "markdown",
   "metadata": {},
   "source": [
    "#### <font color = #FFF8C6> Cabin has too many missing data and it is a string with countless possibilities, impossible for us to fill data in meaningful way, drop from dataset </font>"
   ]
  },
  {
   "cell_type": "code",
   "execution_count": 5,
   "metadata": {},
   "outputs": [
    {
     "data": {
      "text/plain": [
       "count    714.000000\n",
       "mean      29.699118\n",
       "std       14.526497\n",
       "min        0.420000\n",
       "25%       20.125000\n",
       "50%       28.000000\n",
       "75%       38.000000\n",
       "max       80.000000\n",
       "Name: Age, dtype: float64"
      ]
     },
     "execution_count": 5,
     "metadata": {},
     "output_type": "execute_result"
    }
   ],
   "source": [
    "df_missing['Age'].describe()"
   ]
  },
  {
   "cell_type": "markdown",
   "metadata": {},
   "source": [
    "### Filling ages column according to mean of each salutation"
   ]
  },
  {
   "cell_type": "code",
   "execution_count": 6,
   "metadata": {},
   "outputs": [],
   "source": [
    "# Groups passengers by salutations\n",
    "df['Salutation'] = df['Name'].apply(lambda name: name.split(',')[1].split('.')[0])\n",
    "# fill missing ages with mean of salutations note: x in lambda refers to the group!\n",
    "df['Age'] = df.groupby('Salutation')['Age'].apply(lambda x: x.fillna(x.mean()))"
   ]
  },
  {
   "cell_type": "markdown",
   "metadata": {},
   "source": [
    "### Binning ages, to see if it helps prediction"
   ]
  },
  {
   "cell_type": "code",
   "execution_count": 7,
   "metadata": {},
   "outputs": [
    {
     "data": {
      "image/png": "[encoded data removed]",
      "text/plain": [
       "<Figure size 432x288 with 1 Axes>"
      ]
     },
     "metadata": {
      "needs_background": "light"
     },
     "output_type": "display_data"
    }
   ],
   "source": [
    "age_labels = ['Children','Adult','Elderly']\n",
    "df['Age_group']=pd.cut(df['Age'], [0,18,50,df['Age'].max()], labels = age_labels)\n",
    "plt.bar(df['Age_group'].value_counts().index,df['Age_group'].value_counts())\n",
    "plt.show()"
   ]
  },
  {
   "cell_type": "markdown",
   "metadata": {},
   "source": [
    "### Fill embarked with mode of column"
   ]
  },
  {
   "cell_type": "code",
   "execution_count": 8,
   "metadata": {},
   "outputs": [],
   "source": [
    "df['Embarked'].fillna(str(df.Embarked.mode()), inplace = True)\n",
    "#df.Embarked.mode() is a Series, need to be converted to string, quite silly, really."
   ]
  },
  {
   "cell_type": "code",
   "execution_count": 9,
   "metadata": {},
   "outputs": [
    {
     "data": {
      "text/plain": [
       "PassengerId      0\n",
       "Survived         0\n",
       "Pclass           0\n",
       "Name             0\n",
       "Sex              0\n",
       "Age              0\n",
       "SibSp            0\n",
       "Parch            0\n",
       "Ticket           0\n",
       "Fare             0\n",
       "Cabin          687\n",
       "Embarked         0\n",
       "Salutation       0\n",
       "Age_group        0\n",
       "dtype: int64"
      ]
     },
     "execution_count": 9,
     "metadata": {},
     "output_type": "execute_result"
    }
   ],
   "source": [
    "df.isnull().sum()\n",
    "#All filled up!"
   ]
  },
  {
   "cell_type": "markdown",
   "metadata": {},
   "source": [
    "## Feature selection"
   ]
  },
  {
   "cell_type": "markdown",
   "metadata": {},
   "source": [
    "### Dropping useless features and converting Pclass to categorical"
   ]
  },
  {
   "cell_type": "code",
   "execution_count": 10,
   "metadata": {},
   "outputs": [],
   "source": [
    "df_useful = df.drop(columns = ['PassengerId','Name','Cabin','Ticket','Salutation','Parch','SibSp','Age'])\n",
    "df_useful['Pclass'] = df_useful['Pclass'].astype(str)"
   ]
  },
  {
   "cell_type": "code",
   "execution_count": 11,
   "metadata": {},
   "outputs": [],
   "source": [
    "df_binaried = pd.get_dummies(df_useful)"
   ]
  },
  {
   "cell_type": "code",
   "execution_count": 12,
   "metadata": {},
   "outputs": [
    {
     "data": {
      "text/plain": [
       "Survived                            int64\n",
       "Fare                              float64\n",
       "Pclass_1                            uint8\n",
       "Pclass_2                            uint8\n",
       "Pclass_3                            uint8\n",
       "Sex_female                          uint8\n",
       "Sex_male                            uint8\n",
       "Embarked_0    S\\ndtype: object      uint8\n",
       "Embarked_C                          uint8\n",
       "Embarked_Q                          uint8\n",
       "Embarked_S                          uint8\n",
       "Age_group_Children                  uint8\n",
       "Age_group_Adult                     uint8\n",
       "Age_group_Elderly                   uint8\n",
       "dtype: object"
      ]
     },
     "execution_count": 12,
     "metadata": {},
     "output_type": "execute_result"
    }
   ],
   "source": [
    "df_binaried.dtypes"
   ]
  },
  {
   "cell_type": "markdown",
   "metadata": {},
   "source": [
    "### Plotting heatmap of correlation, just for visualisation"
   ]
  },
  {
   "cell_type": "code",
   "execution_count": 13,
   "metadata": {},
   "outputs": [
    {
     "data": {
      "image/png": "[encoded data removed]",
      "text/plain": [
       "<Figure size 432x288 with 2 Axes>"
      ]
     },
     "metadata": {
      "needs_background": "light"
     },
     "output_type": "display_data"
    }
   ],
   "source": [
    "corr = df_binaried.corr()\n",
    "sns.heatmap(abs(corr))\n",
    "plt.show()"
   ]
  },
  {
   "cell_type": "markdown",
   "metadata": {},
   "source": [
    "### Gender and Passenger class are the 2 features with the highest correlation to Survival"
   ]
  },
  {
   "cell_type": "markdown",
   "metadata": {},
   "source": [
    "### Making an SVC model"
   ]
  },
  {
   "cell_type": "code",
   "execution_count": 21,
   "metadata": {},
   "outputs": [],
   "source": [
    "X = df_binaried.loc[:,df_binaried.columns != 'Survived']\n",
    "y = df_binaried['Survived']\n",
    "X_train, X_test, y_train, y_test = train_test_split(X,y)"
   ]
  },
  {
   "cell_type": "code",
   "execution_count": 22,
   "metadata": {},
   "outputs": [],
   "source": [
    "from sklearn.preprocessing import MinMaxScaler\n",
    "scaler = MinMaxScaler()\n",
    "X_train_scaled = scaler.fit_transform(X_train)\n",
    "X_test_scaled = scaler.transform(X_test)"
   ]
  },
  {
   "cell_type": "markdown",
   "metadata": {},
   "source": [
    "### Validation curve without feature normalisation"
   ]
  },
  {
   "cell_type": "code",
   "execution_count": 19,
   "metadata": {},
   "outputs": [
    {
     "data": {
      "text/html": [
       "<div>\n",
       "<style scoped>\n",
       "    .dataframe tbody tr th:only-of-type {\n",
       "        vertical-align: middle;\n",
       "    }\n",
       "\n",
       "    .dataframe tbody tr th {\n",
       "        vertical-align: top;\n",
       "    }\n",
       "\n",
       "    .dataframe thead th {\n",
       "        text-align: right;\n",
       "    }\n",
       "</style>\n",
       "<table border=\"1\" class=\"dataframe\">\n",
       "  <thead>\n",
       "    <tr style=\"text-align: right;\">\n",
       "      <th></th>\n",
       "      <th>0.0001</th>\n",
       "      <th>0.0010</th>\n",
       "      <th>0.0100</th>\n",
       "      <th>0.1000</th>\n",
       "      <th>1.0000</th>\n",
       "      <th>10.0000</th>\n",
       "    </tr>\n",
       "  </thead>\n",
       "  <tbody>\n",
       "    <tr>\n",
       "      <th>Train scores</th>\n",
       "      <td>0.674523</td>\n",
       "      <td>0.674523</td>\n",
       "      <td>0.776655</td>\n",
       "      <td>0.828844</td>\n",
       "      <td>0.909652</td>\n",
       "      <td>0.921998</td>\n",
       "    </tr>\n",
       "    <tr>\n",
       "      <th>Test scores</th>\n",
       "      <td>0.650954</td>\n",
       "      <td>0.653199</td>\n",
       "      <td>0.746352</td>\n",
       "      <td>0.759820</td>\n",
       "      <td>0.781145</td>\n",
       "      <td>0.734007</td>\n",
       "    </tr>\n",
       "  </tbody>\n",
       "</table>\n",
       "</div>"
      ],
      "text/plain": [
       "               0.0001    0.0010    0.0100    0.1000    1.0000    10.0000\n",
       "Train scores  0.674523  0.674523  0.776655  0.828844  0.909652  0.921998\n",
       "Test scores   0.650954  0.653199  0.746352  0.759820  0.781145  0.734007"
      ]
     },
     "execution_count": 19,
     "metadata": {},
     "output_type": "execute_result"
    }
   ],
   "source": [
    "from sklearn.model_selection import validation_curve\n",
    "train_scores, valid_scores = validation_curve(SVC(kernel = 'rbf'), X, y, \"gamma\", \n",
    "                                                  np.logspace(-4,1,6), cv = 3)\n",
    "cv_scores = np.mean(train_scores, axis = 1),np.mean(valid_scores, axis = 1)\n",
    "pd.DataFrame(cv_scores, index = ['Train scores','Test scores'], columns =np.logspace(-4,1,6) )"
   ]
  },
  {
   "cell_type": "markdown",
   "metadata": {},
   "source": [
    "### Results are ho-hum without any sort of data pre-processing"
   ]
  },
  {
   "cell_type": "markdown",
   "metadata": {},
   "source": [
    "### Validation curve after scaling"
   ]
  },
  {
   "cell_type": "code",
   "execution_count": 20,
   "metadata": {},
   "outputs": [
    {
     "data": {
      "text/html": [
       "<div>\n",
       "<style scoped>\n",
       "    .dataframe tbody tr th:only-of-type {\n",
       "        vertical-align: middle;\n",
       "    }\n",
       "\n",
       "    .dataframe tbody tr th {\n",
       "        vertical-align: top;\n",
       "    }\n",
       "\n",
       "    .dataframe thead th {\n",
       "        text-align: right;\n",
       "    }\n",
       "</style>\n",
       "<table border=\"1\" class=\"dataframe\">\n",
       "  <thead>\n",
       "    <tr style=\"text-align: right;\">\n",
       "      <th></th>\n",
       "      <th>0.0001</th>\n",
       "      <th>0.0010</th>\n",
       "      <th>0.0100</th>\n",
       "      <th>0.1000</th>\n",
       "      <th>1.0000</th>\n",
       "      <th>10.0000</th>\n",
       "      <th>100.0000</th>\n",
       "    </tr>\n",
       "  </thead>\n",
       "  <tbody>\n",
       "    <tr>\n",
       "      <th>Train scores</th>\n",
       "      <td>0.616162</td>\n",
       "      <td>0.616162</td>\n",
       "      <td>0.786756</td>\n",
       "      <td>0.796857</td>\n",
       "      <td>0.822671</td>\n",
       "      <td>0.826038</td>\n",
       "      <td>0.831089</td>\n",
       "    </tr>\n",
       "    <tr>\n",
       "      <th>Test scores</th>\n",
       "      <td>0.616162</td>\n",
       "      <td>0.616162</td>\n",
       "      <td>0.786756</td>\n",
       "      <td>0.792368</td>\n",
       "      <td>0.810325</td>\n",
       "      <td>0.806958</td>\n",
       "      <td>0.804714</td>\n",
       "    </tr>\n",
       "  </tbody>\n",
       "</table>\n",
       "</div>"
      ],
      "text/plain": [
       "              0.0001    0.0010    0.0100    0.1000    1.0000    10.0000   \\\n",
       "Train scores  0.616162  0.616162  0.786756  0.796857  0.822671  0.826038   \n",
       "Test scores   0.616162  0.616162  0.786756  0.792368  0.810325  0.806958   \n",
       "\n",
       "              100.0000  \n",
       "Train scores  0.831089  \n",
       "Test scores   0.804714  "
      ]
     },
     "execution_count": 20,
     "metadata": {},
     "output_type": "execute_result"
    }
   ],
   "source": [
    "X_scaled = scaler.fit_transform(X)\n",
    "scaled_train_scores, scaled_valid_scores = validation_curve(SVC(kernel = 'rbf'), X_scaled, y, \"gamma\", \n",
    "                                                  np.logspace(-4,2,7), cv = 3)\n",
    "scaled_cv_scores = np.mean(scaled_train_scores, axis = 1),np.mean(scaled_valid_scores, axis = 1)\n",
    "pd.DataFrame(scaled_cv_scores, index = ['Train scores','Test scores'], columns =np.logspace(-4,2,7) )"
   ]
  },
  {
   "cell_type": "markdown",
   "metadata": {},
   "source": [
    "## Better train/test results after scaling!"
   ]
  },
  {
   "cell_type": "markdown",
   "metadata": {},
   "source": [
    "### Logistic regression model with scaling"
   ]
  },
  {
   "cell_type": "code",
   "execution_count": 23,
   "metadata": {},
   "outputs": [
    {
     "name": "stdout",
     "output_type": "stream",
     "text": [
      "C = 0.0001, train score: 0.62\n",
      "C = 0.0001, test score: 0.65\n",
      "C = 0.001, train score: 0.67\n",
      "C = 0.001, test score: 0.70\n",
      "C = 0.01, train score: 0.80\n",
      "C = 0.01, test score: 0.82\n",
      "C = 0.1, train score: 0.78\n",
      "C = 0.1, test score: 0.79\n",
      "C = 1, train score: 0.78\n",
      "C = 1, test score: 0.79\n",
      "C = 10, train score: 0.78\n",
      "C = 10, test score: 0.79\n",
      "C = 100, train score: 0.78\n",
      "C = 100, test score: 0.79\n"
     ]
    }
   ],
   "source": [
    "from sklearn.linear_model import LogisticRegression\n",
    "for this_c in [0.0001,0.001,.01,.1,1,10,100]:\n",
    "    lg_clf = LogisticRegression(C = this_c, solver = 'liblinear').fit(X_train_scaled, y_train)\n",
    "    print('C = {}, train score: {:.2f}'.format(this_c,lg_clf.score(X_train_scaled,y_train)))\n",
    "    print('C = {}, test score: {:.2f}'.format(this_c,lg_clf.score(X_test_scaled,y_test)))\n",
    "# increase in C, increases in fitting of model to train data (more overfitting)\n"
   ]
  },
  {
   "cell_type": "markdown",
   "metadata": {},
   "source": [
    "## Generating model with full training set\n",
    "Just for simplicity, I have chosen a logistic regression model with C = 0.01, I will return to the model selection step when I know of better ways to select models"
   ]
  },
  {
   "cell_type": "code",
   "execution_count": 24,
   "metadata": {},
   "outputs": [],
   "source": [
    "X_scaled = scaler.fit_transform(X)\n",
    "chosen_model = LogisticRegression(C = 0.01, solver = 'liblinear').fit(X_scaled,y)"
   ]
  },
  {
   "cell_type": "markdown",
   "metadata": {},
   "source": [
    "## Preprocessing test data "
   ]
  },
  {
   "cell_type": "code",
   "execution_count": 25,
   "metadata": {},
   "outputs": [
    {
     "data": {
      "text/plain": [
       "PassengerId      0\n",
       "Pclass           0\n",
       "Name             0\n",
       "Sex              0\n",
       "Age             86\n",
       "SibSp            0\n",
       "Parch            0\n",
       "Ticket           0\n",
       "Fare             1\n",
       "Cabin          327\n",
       "Embarked         0\n",
       "dtype: int64"
      ]
     },
     "execution_count": 25,
     "metadata": {},
     "output_type": "execute_result"
    }
   ],
   "source": [
    "df_test.isnull().sum()"
   ]
  },
  {
   "cell_type": "markdown",
   "metadata": {},
   "source": [
    "### Test data will need filling: Age column and fare, I shall do both with mean, out of laziness."
   ]
  },
  {
   "cell_type": "code",
   "execution_count": 26,
   "metadata": {},
   "outputs": [
    {
     "data": {
      "text/plain": [
       "PassengerId      0\n",
       "Pclass           0\n",
       "Name             0\n",
       "Sex              0\n",
       "Age              0\n",
       "SibSp            0\n",
       "Parch            0\n",
       "Ticket           0\n",
       "Fare             0\n",
       "Cabin          327\n",
       "Embarked         0\n",
       "dtype: int64"
      ]
     },
     "execution_count": 26,
     "metadata": {},
     "output_type": "execute_result"
    }
   ],
   "source": [
    "df_test['Fare'].fillna(df_test.Fare.mean(), inplace = True)\n",
    "df_test['Age'].fillna(df_test.Age.mean(), inplace = True)\n",
    "df_test.isnull().sum()"
   ]
  },
  {
   "cell_type": "code",
   "execution_count": 27,
   "metadata": {},
   "outputs": [],
   "source": [
    "df_test_selected = df_test.drop(columns = ['PassengerId','Name','Cabin','Ticket','Parch','SibSp'])\n",
    "df_test_selected['Pclass'] = df_useful['Pclass'].astype(str)\n",
    "df_test_processed = pd.get_dummies(df_test_selected)\n",
    "df_test_scaled = scaler.fit_transform(df_test_processed)"
   ]
  },
  {
   "cell_type": "markdown",
   "metadata": {},
   "source": [
    "### DONE!"
   ]
  },
  {
   "cell_type": "markdown",
   "metadata": {},
   "source": [
    "## Making prediction on test data and generating CSV"
   ]
  },
  {
   "cell_type": "code",
   "execution_count": null,
   "metadata": {},
   "outputs": [],
   "source": [
    "answer = pd.Series(chosen_model.predict(df_test_scaled), name = 'Survived')\n",
    "df_answer = pd.concat([df_test['PassengerId'],answer], axis = 1)"
   ]
  },
  {
   "cell_type": "code",
   "execution_count": null,
   "metadata": {},
   "outputs": [],
   "source": [
    "df_answer.to_csv(r'yourpathhere/',index = None)"
   ]
  },
  {
   "cell_type": "code",
   "execution_count": null,
   "metadata": {},
   "outputs": [],
   "source": [
    "model2 = SVC(kernel = 'rbf', gamma = 10).fit(X_scaled, y)\n",
    "answer2 = pd.Series(model2.predict(df_test_scaled), name = 'Survived')"
   ]
  },
  {
   "cell_type": "code",
   "execution_count": null,
   "metadata": {},
   "outputs": [],
   "source": [
    "answerSVC = pd.concat([df_test['PassengerId'],answer2], axis = 1)\n",
    "answerSVC.to_csv(r'yourpathhere/',index = None)"
   ]
  }
 ],
 "metadata": {
  "kernelspec": {
   "display_name": "Python 3",
   "language": "python",
   "name": "python3"
  },
  "language_info": {
   "codemirror_mode": {
    "name": "ipython",
    "version": 3
   },
   "file_extension": ".py",
   "mimetype": "text/x-python",
   "name": "python",
   "nbconvert_exporter": "python",
   "pygments_lexer": "ipython3",
   "version": "3.7.2"
  }
 },
 "nbformat": 4,
 "nbformat_minor": 2
}
